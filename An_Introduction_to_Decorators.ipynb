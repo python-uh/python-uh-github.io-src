{
 "cells": [
  {
   "cell_type": "markdown",
   "metadata": {
    "slideshow": {
     "slide_type": "slide"
    }
   },
   "source": [
    "# An Introduction to Decorators in Python\n",
    "\n",
    "### Python@UH #2 \n",
    "\n",
    "#### Mahdi Belcaid\n",
    "\n",
    "#### mahdi@hawaii.edu"
   ]
  },
  {
   "cell_type": "markdown",
   "metadata": {
    "slideshow": {
     "slide_type": "slide"
    }
   },
   "source": [
    "### Use case 1: Logging\n",
    "\n",
    "* Consider a function `do_some_work()`. How can you extend it?\n",
    "\n",
    "  * Ex. Log the execution of `do_some_work()` when the variable DEBUG is True\n",
    "\n",
    "```python \n",
    "If debug == True:\n",
    "    print(“I am calling `do_som_work`”)\n",
    "    do_some_work()\n",
    "```\n",
    "* The above required adding an `if` statement before each call to do_some_work()\n",
    "\n"
   ]
  },
  {
   "cell_type": "markdown",
   "metadata": {
    "slideshow": {
     "slide_type": "slide"
    }
   },
   "source": [
    "### Use case 2: Authentication\n",
    "\n",
    "\n",
    "* Ascertain that `do_some_work` is only executed when a user is logged in\n",
    "\n",
    "  * Require implementing a solution similar to the one in the previous example\n",
    "\n",
    "```python\n",
    "if user.is_logged:\n",
    "    do_some_work()\n",
    "else:        \n",
    "    raise Exception(“User not logged cannot invoke do_some_work()”)\n",
    "```\n"
   ]
  },
  {
   "cell_type": "markdown",
   "metadata": {
    "slideshow": {
     "slide_type": "slide"
    }
   },
   "source": [
    "### Use case 3: Profiling\n",
    "\n",
    "* Compute the time it takes to run of the function\n",
    "\n",
    "```python\n",
    "start_time = time.time()\n",
    "do_some_work()\n",
    "Total_time += time.time() - start_time\n",
    "```"
   ]
  },
  {
   "cell_type": "markdown",
   "metadata": {
    "slideshow": {
     "slide_type": "slide"
    }
   },
   "source": [
    "### Trivial Solution\n",
    "     \n",
    "* Why not just create another function that calls do work and injects the additional functionality\n",
    "```\n",
    "def check_logged_and_do_some_work():\n",
    "    If user.logged == True:\n",
    "        do_some_work\n",
    "    else:\n",
    "        raise Exception(“User not logged cannot invoke do_some_work()”)\n",
    "```\n",
    "\n",
    "* While this solution works, it does not scale.\n",
    "    * Image creating functions for `check_logged_and_access_db`, `check_logged_and_store_results`, `check_logged_and_simulate_data`, etc...\n",
    "    \n",
    "* This shortcoming also applies to use cases 2 and 3."
   ]
  },
  {
   "cell_type": "markdown",
   "metadata": {
    "slideshow": {
     "slide_type": "slide"
    }
   },
   "source": [
    "### The Decorator Design Pattern\n",
    "\n",
    "* Problem: we need to extend a function by typically executing code before and/or after it\n",
    "  * We don't want to modify the original function\n",
    "  \n",
    "* This is a common problem that warrants its software engineering design pattern \n",
    "  * The pattern is called decorator\n",
    "\n",
    "```\n",
    "Decorator is a structural design pattern that lets you attach new behaviors to objects by placing these objects inside special wrapper objects that contain the behaviors. https://refactoring.guru/design-patterns/decorator\n",
    "```\n"
   ]
  },
  {
   "cell_type": "markdown",
   "metadata": {
    "slideshow": {
     "slide_type": "slide"
    }
   },
   "source": [
    "### Decorators in Python\n",
    "\n",
    "* Function X that takes function Y returns a function Z  \n",
    "  * Function Z wraps and extends function Y\n"
   ]
  },
  {
   "cell_type": "markdown",
   "metadata": {
    "slideshow": {
     "slide_type": "slide"
    }
   },
   "source": [
    "### Functions in Python\n",
    "\n",
    "Pythons function are first-class objects\n",
    "E.g.:\n",
    "    * Functions can be stored, retrieved, and called from a variable or a  collection\n",
    "    * Function can be passed as arguments to other functions\n",
    "    * Functions can be defined in any scope, including inside other functions\n",
    "\n",
    "\n"
   ]
  },
  {
   "cell_type": "code",
   "execution_count": 5,
   "metadata": {
    "slideshow": {
     "slide_type": "slide"
    }
   },
   "outputs": [
    {
     "data": {
      "text/plain": [
       "'Hello, Mahdi'"
      ]
     },
     "execution_count": 5,
     "metadata": {},
     "output_type": "execute_result"
    }
   ],
   "source": [
    "def return_greeting(name=\"John\"):\n",
    "    return f\"Hello, {name}\"\n",
    "\n",
    "return_greeting(name=\"Mahdi\")"
   ]
  },
  {
   "cell_type": "code",
   "execution_count": 6,
   "metadata": {
    "slideshow": {
     "slide_type": "slide"
    }
   },
   "outputs": [
    {
     "data": {
      "text/plain": [
       "'Hello, Mahdi'"
      ]
     },
     "execution_count": 6,
     "metadata": {},
     "output_type": "execute_result"
    }
   ],
   "source": [
    "build_greeting = return_greeting\n",
    "build_greeting(\"Mahdi\")"
   ]
  },
  {
   "cell_type": "code",
   "execution_count": 183,
   "metadata": {
    "slideshow": {
     "slide_type": "slide"
    }
   },
   "outputs": [
    {
     "data": {
      "text/plain": [
       "'Hello, John'"
      ]
     },
     "execution_count": 183,
     "metadata": {},
     "output_type": "execute_result"
    }
   ],
   "source": [
    "def call_some_function(func):\n",
    "    return func()\n",
    "    \n",
    "call_some_function(build_greeting)"
   ]
  },
  {
   "cell_type": "markdown",
   "metadata": {
    "slideshow": {
     "slide_type": "slide"
    }
   },
   "source": [
    "### Difference Between a Function and a Function Call \n",
    "\n",
    "* `return_greeting` is a function.\n",
    "\n",
    "* `return_greeting()` is a funtion call, i.e., the string it returns\n",
    "\n",
    "`call_some_function(func)` takes a function as input not a function call, which returns a string\n",
    "```python\n",
    "    call_some_function(return_greeting)           # Correct\n",
    "    call_some_function(return_greeting(\"Mahdi\"))  # Incorrect \n",
    "```"
   ]
  },
  {
   "cell_type": "markdown",
   "metadata": {
    "slideshow": {
     "slide_type": "slide"
    }
   },
   "source": [
    "### Function Inside Other functions\n",
    "```python\n",
    "def parent():\n",
    "    def nested_child():\n",
    "        print(\"I am in the the nested child function\")\n",
    "    nested_child()\n",
    "```\n",
    "\n",
    "\n",
    "    \n",
    "* The scope of the nested function is local to the parent function\n",
    "  * We can only call the nested function from within the parent function\n",
    "  \n"
   ]
  },
  {
   "cell_type": "markdown",
   "metadata": {
    "slideshow": {
     "slide_type": "slide"
    }
   },
   "source": [
    "### Function Inside Other functions -- cont'd\n",
    "\n",
    "* Alternatively, we can return the nested function and reuse it later\n",
    "  * Return the *function* not the *function call*\n",
    "\n",
    "```python\n",
    "def parent():\n",
    "    def nested_child():\n",
    "        print(\"I am in the the nested child function\")\n",
    "    return nested_child\n",
    "    \n",
    "the_nested_func = parent()\n",
    "the_nested_func()\n",
    "```"
   ]
  },
  {
   "cell_type": "code",
   "execution_count": 2,
   "metadata": {
    "slideshow": {
     "slide_type": "slide"
    }
   },
   "outputs": [
    {
     "name": "stdout",
     "output_type": "stream",
     "text": [
      "I am in the the nested child function\n"
     ]
    }
   ],
   "source": [
    "def parent():\n",
    "    def nested_child():\n",
    "        print(\"I am in the the nested child function\")\n",
    "    nested_child()\n",
    "parent()"
   ]
  },
  {
   "cell_type": "code",
   "execution_count": 185,
   "metadata": {
    "slideshow": {
     "slide_type": "slide"
    }
   },
   "outputs": [
    {
     "name": "stdout",
     "output_type": "stream",
     "text": [
      "I am in the the nested child function\n"
     ]
    }
   ],
   "source": [
    "def parent():\n",
    "    def nested_child():\n",
    "        print(\"I am in the the nested child function\")\n",
    "    return nested_child\n",
    "    \n",
    "the_nested_func = parent()\n",
    "the_nested_func()"
   ]
  },
  {
   "cell_type": "code",
   "execution_count": 186,
   "metadata": {
    "slideshow": {
     "slide_type": "slide"
    }
   },
   "outputs": [
    {
     "data": {
      "text/plain": [
       "<function __main__.parent.<locals>.nested_child()>"
      ]
     },
     "execution_count": 186,
     "metadata": {},
     "output_type": "execute_result"
    }
   ],
   "source": [
    "the_nested_func"
   ]
  },
  {
   "cell_type": "markdown",
   "metadata": {
    "slideshow": {
     "slide_type": "slide"
    }
   },
   "source": [
    "### Decorator\n",
    "  * Recall that a decorator is simply: \n",
    "  ```Function X that takes function Y returns a function Z that wraps and extends Y`` \n",
    "\n",
    "```python \n",
    "def X(Y) :\n",
    "    Z():\n",
    "        # Do Something before Y()    \n",
    "        Y()\n",
    "        # Do something after Y()\n",
    "    return Z\n",
    "```\n",
    "\n",
    "* We call the functions\n",
    "  * X: decorator\n",
    "  * Y: Decorated\n",
    "  * Z: the wrapper"
   ]
  },
  {
   "cell_type": "code",
   "execution_count": 3,
   "metadata": {
    "slideshow": {
     "slide_type": "slide"
    }
   },
   "outputs": [],
   "source": [
    "def X(Y):\n",
    "    def Z():\n",
    "        print(\"About to run Y\")\n",
    "        Y()\n",
    "        print(\"Done running Y \")\n",
    "    return Z\n"
   ]
  },
  {
   "cell_type": "code",
   "execution_count": 4,
   "metadata": {
    "slideshow": {
     "slide_type": "slide"
    }
   },
   "outputs": [
    {
     "name": "stdout",
     "output_type": "stream",
     "text": [
      "About to run Y\n",
      "doing some important work\n",
      "Done running Y \n"
     ]
    }
   ],
   "source": [
    "def Y():\n",
    "    print (\"doing some important work\")\n",
    "\n",
    "W = X(Y)\n",
    "\n",
    "W()"
   ]
  },
  {
   "cell_type": "code",
   "execution_count": 190,
   "metadata": {
    "slideshow": {
     "slide_type": "slide"
    }
   },
   "outputs": [
    {
     "data": {
      "text/plain": [
       "<function __main__.X.<locals>.Z()>"
      ]
     },
     "execution_count": 190,
     "metadata": {},
     "output_type": "execute_result"
    }
   ],
   "source": [
    "W"
   ]
  },
  {
   "cell_type": "markdown",
   "metadata": {
    "slideshow": {
     "slide_type": "slide"
    }
   },
   "source": [
    "### Decorators: Syntactic Sugar\n",
    "\n",
    "* We know everything about decorator in Python\n",
    "  * The rest is syntactic sugar\n",
    "\n",
    "* Python provides the `@` operator to simplify the decoration process\n",
    "\n",
    "```python\n",
    "@X\n",
    "def Y():\n",
    "    print(\"Some important work\")\n",
    "```    \n",
    "\n"
   ]
  },
  {
   "cell_type": "code",
   "execution_count": 5,
   "metadata": {
    "slideshow": {
     "slide_type": "slide"
    }
   },
   "outputs": [
    {
     "name": "stdout",
     "output_type": "stream",
     "text": [
      "About to run Y\n",
      "Some important work\n",
      "Done running Y \n"
     ]
    }
   ],
   "source": [
    "@X\n",
    "def Y():\n",
    "    print(\"Some important work\")\n",
    "Y()"
   ]
  },
  {
   "cell_type": "code",
   "execution_count": 6,
   "metadata": {},
   "outputs": [
    {
     "name": "stdout",
     "output_type": "stream",
     "text": [
      "About to run Y\n",
      "This is also important work\n",
      "Done running Y \n"
     ]
    }
   ],
   "source": [
    "@X\n",
    "def M():\n",
    "    print(\"This is also important work\")\n",
    "M()"
   ]
  },
  {
   "cell_type": "markdown",
   "metadata": {
    "slideshow": {
     "slide_type": "slide"
    }
   },
   "source": [
    "#### Decorators Code Convention - 1\n",
    "\n",
    "* We usually name the decorators and wrappers in a way that makes code easier to read.\n",
    "\n",
    "```python\n",
    "\n",
    "def X(fun):\n",
    "    def wrapper_X():\n",
    "        # Do somehting before, if needed\n",
    "        fun()\n",
    "        # Do somehting after, if needed\n",
    "    return wrapper_X\n",
    "\n",
    "@X\n",
    "def hello():\n",
    "    pass\n",
    "```\n",
    "\n",
    "* `hello` is now an alias for `wrapper_x`"
   ]
  },
  {
   "cell_type": "code",
   "execution_count": 10,
   "metadata": {
    "slideshow": {
     "slide_type": "slide"
    }
   },
   "outputs": [
    {
     "name": "stdout",
     "output_type": "stream",
     "text": [
      "About to run fun\n"
     ]
    }
   ],
   "source": [
    "def X(fun):\n",
    "    def wrapper_X():\n",
    "        print(\"About to run fun\")\n",
    "        fun()\n",
    "    return wrapper_X\n",
    "\n",
    "@X\n",
    "def return_greeting():\n",
    "    return \"Hello!\"\n",
    "\n",
    "\n",
    "return_greeting()"
   ]
  },
  {
   "cell_type": "markdown",
   "metadata": {
    "slideshow": {
     "slide_type": "slide"
    }
   },
   "source": [
    "#### Decorators Code Convention - 2\n",
    "\n",
    "* We need to return the value returned by the decorated function (X)\n",
    "\n",
    "```python\n",
    "\n",
    "def X(fun):\n",
    "    def wrapper_X():\n",
    "        # Do somehting before, if needed\n",
    "        val = fun()\n",
    "        # Do somehting after, if needed\n",
    "        return val\n",
    "    return wrapper_X\n",
    "\n",
    "@X\n",
    "def return_greeting():\n",
    "    return f\"Hello!\"\n",
    "```\n",
    "* if `return_greeting()` returns a value, then its alias, `wrapper_x`, will also need to return a value"
   ]
  },
  {
   "cell_type": "code",
   "execution_count": 11,
   "metadata": {
    "slideshow": {
     "slide_type": "slide"
    }
   },
   "outputs": [
    {
     "name": "stdout",
     "output_type": "stream",
     "text": [
      "Before execution of fun\n",
      "After execution of fun\n",
      "\n",
      "\n",
      "The returned value is: 'Hello, John'.\n"
     ]
    }
   ],
   "source": [
    "\n",
    "def log_activity(fun):\n",
    "    def wrapper_log_activity():\n",
    "        print(\"Before execution of fun\")\n",
    "        val = fun()\n",
    "        print(\"After execution of fun\")\n",
    "        return val\n",
    "    return wrapper_log_activity\n",
    "\n",
    "\n",
    "@log_activity\n",
    "def return_greeting(name=\"John\"):\n",
    "    return f\"Hello, {name}\"\n",
    "\n",
    "x = return_greeting()\n",
    "print(f\"\\n\\nThe returned value is: '{x}'.\")"
   ]
  },
  {
   "cell_type": "markdown",
   "metadata": {
    "slideshow": {
     "slide_type": "slide"
    }
   },
   "source": [
    "### Passing Arguments to Decorators\n",
    "\n",
    "* What does the following return?\n",
    "\n",
    "```python\n",
    "def log_activity(fun):\n",
    "    def wrapper_log_activity():\n",
    "        print(\"Before execution of fun\")\n",
    "        val = fun()\n",
    "        print(\"After execution of fun\")\n",
    "        return val\n",
    "    return wrapper_log_activity\n",
    "\n",
    "\n",
    "@log_activity\n",
    "def return_greeting(name=\"John\"):\n",
    "    return f\"Hello, {name}\"\n",
    "\n",
    "\n",
    "return_greeting(name=\"Jimmy\")\n",
    "```\n",
    "\n"
   ]
  },
  {
   "cell_type": "code",
   "execution_count": 198,
   "metadata": {
    "slideshow": {
     "slide_type": "slide"
    }
   },
   "outputs": [
    {
     "ename": "TypeError",
     "evalue": "wrapper_log_activity() got an unexpected keyword argument 'name'",
     "output_type": "error",
     "traceback": [
      "\u001b[0;31m---------------------------------------------------------------------------\u001b[0m",
      "\u001b[0;31mTypeError\u001b[0m                                 Traceback (most recent call last)",
      "\u001b[0;32m<ipython-input-198-088605bdf98f>\u001b[0m in \u001b[0;36m<module>\u001b[0;34m\u001b[0m\n\u001b[1;32m     13\u001b[0m \u001b[0;34m\u001b[0m\u001b[0m\n\u001b[1;32m     14\u001b[0m \u001b[0;34m\u001b[0m\u001b[0m\n\u001b[0;32m---> 15\u001b[0;31m \u001b[0mreturn_greeting\u001b[0m\u001b[0;34m(\u001b[0m\u001b[0mname\u001b[0m\u001b[0;34m=\u001b[0m\u001b[0;34m\"Jimmy\"\u001b[0m\u001b[0;34m)\u001b[0m\u001b[0;34m\u001b[0m\u001b[0;34m\u001b[0m\u001b[0m\n\u001b[0m",
      "\u001b[0;31mTypeError\u001b[0m: wrapper_log_activity() got an unexpected keyword argument 'name'"
     ]
    }
   ],
   "source": [
    "# The wrapper is not expecting a param but one is passed.\n",
    "# error!\n",
    "def log_activity(fun):\n",
    "    def wrapper_log_activity():\n",
    "        print(\"Before execution of fun\")\n",
    "        val = fun()\n",
    "        print(\"After execution of fun\")\n",
    "        return val\n",
    "    return wrapper_log_activity\n",
    "\n",
    "@log_activity\n",
    "def return_greeting(name=\"John\"):\n",
    "    return f\"Hello, {name}\"\n",
    "\n",
    "\n",
    "return_greeting(name=\"Jimmy\")\n"
   ]
  },
  {
   "cell_type": "code",
   "execution_count": 200,
   "metadata": {
    "slideshow": {
     "slide_type": "slide"
    }
   },
   "outputs": [
    {
     "data": {
      "text/plain": [
       "<function __main__.log_activity.<locals>.wrapper_log_activity()>"
      ]
     },
     "execution_count": 200,
     "metadata": {},
     "output_type": "execute_result"
    }
   ],
   "source": [
    "# the following shows that wrapper (the alias) does take any arguments\n",
    "return_greeting"
   ]
  },
  {
   "cell_type": "code",
   "execution_count": 12,
   "metadata": {
    "slideshow": {
     "slide_type": "slide"
    }
   },
   "outputs": [
    {
     "name": "stdout",
     "output_type": "stream",
     "text": [
      "Before execution of fun\n",
      "After execution of fun\n"
     ]
    },
    {
     "data": {
      "text/plain": [
       "'Hello, Jimmy'"
      ]
     },
     "execution_count": 12,
     "metadata": {},
     "output_type": "execute_result"
    }
   ],
   "source": [
    "# Hardcoding the param works for return_greeting \n",
    "# But not for other function we may be interested in logging.\n",
    "def log_activity(fun):\n",
    "    def wrapper_log_activity(name=\"John\"):\n",
    "        print(\"Before execution of fun\")\n",
    "        val = fun(name)\n",
    "        print(\"After execution of fun\")\n",
    "        return val\n",
    "    return wrapper_log_activity\n",
    "\n",
    "@log_activity\n",
    "def return_greeting(name=\"John\"):\n",
    "    return f\"Hello, {name}\"\n",
    "\n",
    "\n",
    "return_greeting(name=\"Jimmy\")\n"
   ]
  },
  {
   "cell_type": "code",
   "execution_count": 202,
   "metadata": {
    "slideshow": {
     "slide_type": "slide"
    }
   },
   "outputs": [],
   "source": [
    "### Debugging Multiple Function\n",
    "\n",
    "def log_activity(fun):\n",
    "    def wrapper_log_activity(name=\"John\", ):\n",
    "        print(\"Before execution of fun\")\n",
    "        val = fun(name)\n",
    "        print(\"After execution of fun\")\n",
    "        return val\n",
    "    return wrapper_log_activity\n",
    "\n",
    "\n",
    "@log_activity\n",
    "def return_greeting(name=\"John\"):\n",
    "    return f\"Hello, {name}\"\n",
    "\n",
    "@log_activity\n",
    "def return_french_greeting(name=\"Jonh\", tod=\"morning\"):\n",
    "    if tod == \"morning\":\n",
    "        return f\"Bonjour, {name}\"\n",
    "    else:\n",
    "        return f\"Bonsoir, {name}\"\n",
    "\n",
    "\n"
   ]
  },
  {
   "cell_type": "code",
   "execution_count": 203,
   "metadata": {
    "slideshow": {
     "slide_type": "slide"
    }
   },
   "outputs": [
    {
     "name": "stdout",
     "output_type": "stream",
     "text": [
      "Before execution of fun\n",
      "After execution of fun\n"
     ]
    },
    {
     "data": {
      "text/plain": [
       "'Hello, John'"
      ]
     },
     "execution_count": 203,
     "metadata": {},
     "output_type": "execute_result"
    }
   ],
   "source": [
    "\n",
    "return_greeting()\n"
   ]
  },
  {
   "cell_type": "code",
   "execution_count": 207,
   "metadata": {
    "slideshow": {
     "slide_type": "slide"
    }
   },
   "outputs": [
    {
     "name": "stdout",
     "output_type": "stream",
     "text": [
      "Help on function wrapper_log_activity in module __main__:\n",
      "\n",
      "wrapper_log_activity(name='John')\n",
      "\n"
     ]
    }
   ],
   "source": [
    "help(return_greeting)\n"
   ]
  },
  {
   "cell_type": "code",
   "execution_count": 18,
   "metadata": {
    "slideshow": {
     "slide_type": "slide"
    }
   },
   "outputs": [
    {
     "name": "stdout",
     "output_type": "stream",
     "text": [
      "Before execution of fun\n",
      "After execution of fun\n"
     ]
    },
    {
     "data": {
      "text/plain": [
       "'Bonjour, Julie'"
      ]
     },
     "execution_count": 18,
     "metadata": {},
     "output_type": "execute_result"
    }
   ],
   "source": [
    "return_french_greeting(name=\"Julie\", tod=\"evening\")"
   ]
  },
  {
   "cell_type": "code",
   "execution_count": 206,
   "metadata": {
    "slideshow": {
     "slide_type": "slide"
    }
   },
   "outputs": [
    {
     "name": "stdout",
     "output_type": "stream",
     "text": [
      "Help on function wrapper_log_activity in module __main__:\n",
      "\n",
      "wrapper_log_activity(name='John')\n",
      "\n"
     ]
    }
   ],
   "source": [
    "help(return_french_greeting)"
   ]
  },
  {
   "cell_type": "code",
   "execution_count": 208,
   "metadata": {
    "slideshow": {
     "slide_type": "slide"
    }
   },
   "outputs": [
    {
     "data": {
      "text/plain": [
       "'wrapper_log_activity'"
      ]
     },
     "execution_count": 208,
     "metadata": {},
     "output_type": "execute_result"
    }
   ],
   "source": [
    "return_french_greeting.__name__"
   ]
  },
  {
   "cell_type": "markdown",
   "metadata": {
    "slideshow": {
     "slide_type": "slide"
    }
   },
   "source": [
    "\n",
    "### Improving Code Readibility\n",
    "\n",
    "* Note that the help(return_french_greeting) shows the function signature of the alias `wrapper_log_activity`\n",
    "  * This is counter intuitive/confusing\n",
    "\n",
    "* Even the method's name has changed\n",
    "```Python\n",
    ">>> print(return_french_greeting.__name__)\n",
    "'wrapper_log_activity'\n",
    "```\n",
    "    \n",
    "* Can be problematic since you may have multiple decorated functions that reference the same wrapper\n",
    "    \n",
    "* To fix this, we can use the `wraps` decorator from `functtools`\n",
    "\n",
    "\n",
    "\n"
   ]
  },
  {
   "cell_type": "code",
   "execution_count": 15,
   "metadata": {},
   "outputs": [],
   "source": [
    "\n",
    "from functools import wraps\n",
    "\n",
    "def log_activity(fun):\n",
    "    @wraps(fun)\n",
    "    def wrapper_log_activity(name=\"John\"):\n",
    "        print(\"Before execution of fun\")\n",
    "        val = fun(name)\n",
    "        print(\"After execution of fun\")\n",
    "        return val\n",
    "    return wrapper_log_activity\n",
    "\n",
    "\n",
    "@log_activity\n",
    "def return_greeting(name=\"John\"):\n",
    "    return f\"Hello, {name}\"\n",
    "\n",
    "@log_activity\n",
    "def return_french_greeting(name=\"Jonh\", tod=\"morning\"):\n",
    "    if tod == \"morning\":\n",
    "        return f\"Bonjour, {name}\"\n",
    "    else:\n",
    "        return f\"Bonsoir, {name}\""
   ]
  },
  {
   "cell_type": "code",
   "execution_count": 210,
   "metadata": {
    "slideshow": {
     "slide_type": "slide"
    }
   },
   "outputs": [
    {
     "data": {
      "text/plain": [
       "<function __main__.return_french_greeting(name='Jonh', tod='morning')>"
      ]
     },
     "execution_count": 210,
     "metadata": {},
     "output_type": "execute_result"
    }
   ],
   "source": [
    "return_french_greeting"
   ]
  },
  {
   "cell_type": "code",
   "execution_count": 211,
   "metadata": {
    "slideshow": {
     "slide_type": "slide"
    }
   },
   "outputs": [
    {
     "name": "stdout",
     "output_type": "stream",
     "text": [
      "Help on function return_french_greeting in module __main__:\n",
      "\n",
      "return_french_greeting(name='Jonh', tod='morning')\n",
      "\n"
     ]
    }
   ],
   "source": [
    "help(return_french_greeting)"
   ]
  },
  {
   "cell_type": "code",
   "execution_count": 82,
   "metadata": {
    "slideshow": {
     "slide_type": "slide"
    }
   },
   "outputs": [
    {
     "data": {
      "text/plain": [
       "'return_french_greeting'"
      ]
     },
     "execution_count": 82,
     "metadata": {},
     "output_type": "execute_result"
    }
   ],
   "source": [
    "return_french_greeting.__name__"
   ]
  },
  {
   "cell_type": "markdown",
   "metadata": {
    "slideshow": {
     "slide_type": "slide"
    }
   },
   "source": [
    "### Passing Arguments to Decorated Funcs - Cont'd\n",
    "\n",
    "* A versatile approach to handing params is through python's *args and **kwargs\n",
    "\n",
    "  * `args`: arguments\n",
    "\n",
    "  * `kwargs`: keyword args.\n",
    "\n",
    "\n",
    "* `args` and `kwargs` allow you to pass multiple arguments or keyword arguments to a function.\n",
    "\n",
    "    \n"
   ]
  },
  {
   "cell_type": "code",
   "execution_count": 19,
   "metadata": {
    "slideshow": {
     "slide_type": "slide"
    }
   },
   "outputs": [
    {
     "name": "stdout",
     "output_type": "stream",
     "text": [
      "The args I was passeed are: ('A', 'Python')\n",
      "The kwargs I was passeed are: {'name': 'John', 'age': '33'}\n"
     ]
    }
   ],
   "source": [
    "def some_function(*args, **kwargs):\n",
    "\n",
    "    print(f\"The args I was passeed are: {args}\")\n",
    "    print(f\"The kwargs I was passeed are: {kwargs}\")\n",
    "\n",
    "some_function(\"A\", \"Python\", name=\"John\", age=\"33\")\n"
   ]
  },
  {
   "cell_type": "markdown",
   "metadata": {
    "slideshow": {
     "slide_type": "slide"
    }
   },
   "source": [
    "### Passing Arguments to Decorated Funcs - Cont'd\n",
    "\n",
    "* Re-write the wrapper to take as input the `args` and `kwargs`\n",
    "\n",
    "```python\n",
    "def log_activity(fun):\n",
    "    def wrapper_log_activity(*args, **kwargs):\n",
    "        print(\"Before execution of fun\")\n",
    "        value = fun(*args, **kwargs)\n",
    "        print(\"After execution of fun\")\n",
    "        return value\n",
    "    return wrapper_log_activity\n",
    "\n",
    "@log_activity\n",
    "def return_greeting(name=\"John\"):\n",
    "    pass\n",
    "\n",
    "@log_activity\n",
    "def return_french_greeting(name=\"Jonh\", tod=\"morning\"):\n",
    "    pass\n",
    "```\n",
    "\n",
    "\n",
    "    \n"
   ]
  },
  {
   "cell_type": "code",
   "execution_count": 20,
   "metadata": {
    "slideshow": {
     "slide_type": "slide"
    }
   },
   "outputs": [],
   "source": [
    "def log_activity(fun):\n",
    "    @wraps(fun)\n",
    "    def wrapper_log_activity(*args, **kwargs):\n",
    "        print(\"Before execution of fun\")\n",
    "        value = fun(*args, **kwargs)\n",
    "        print(\"After execution of fun\")\n",
    "        return value\n",
    "    return wrapper_log_activity\n",
    "\n",
    "@log_activity\n",
    "def return_greeting(name=\"John\"):\n",
    "    return f\"Hello, {name}\"\n",
    "\n",
    "@log_activity\n",
    "def return_french_greeting(name=\"Jonh\", tod=\"morning\"):\n",
    "    if tod == \"morning\":\n",
    "        return f\"Bonjour, {name}\"\n",
    "    else:\n",
    "        return f\"Bonsoir, {name}\"\n",
    "    \n"
   ]
  },
  {
   "cell_type": "code",
   "execution_count": 21,
   "metadata": {
    "slideshow": {
     "slide_type": "slide"
    }
   },
   "outputs": [
    {
     "name": "stdout",
     "output_type": "stream",
     "text": [
      "Before execution of fun\n",
      "After execution of fun\n"
     ]
    },
    {
     "data": {
      "text/plain": [
       "'Hello, John'"
      ]
     },
     "execution_count": 21,
     "metadata": {},
     "output_type": "execute_result"
    }
   ],
   "source": [
    "return_greeting()"
   ]
  },
  {
   "cell_type": "code",
   "execution_count": 22,
   "metadata": {
    "slideshow": {
     "slide_type": "slide"
    }
   },
   "outputs": [
    {
     "name": "stdout",
     "output_type": "stream",
     "text": [
      "Before execution of fun\n",
      "After execution of fun\n"
     ]
    },
    {
     "data": {
      "text/plain": [
       "'Bonjour, Jimmy'"
      ]
     },
     "execution_count": 22,
     "metadata": {},
     "output_type": "execute_result"
    }
   ],
   "source": [
    "return_french_greeting(name=\"Jimmy\")"
   ]
  },
  {
   "cell_type": "code",
   "execution_count": 23,
   "metadata": {
    "slideshow": {
     "slide_type": "slide"
    }
   },
   "outputs": [
    {
     "name": "stdout",
     "output_type": "stream",
     "text": [
      "Before execution of fun\n",
      "After execution of fun\n"
     ]
    },
    {
     "data": {
      "text/plain": [
       "'Bonsoir, Jonh'"
      ]
     },
     "execution_count": 23,
     "metadata": {},
     "output_type": "execute_result"
    }
   ],
   "source": [
    "return_french_greeting(tod=\"evening\")"
   ]
  },
  {
   "cell_type": "code",
   "execution_count": 24,
   "metadata": {
    "slideshow": {
     "slide_type": "slide"
    }
   },
   "outputs": [
    {
     "name": "stdout",
     "output_type": "stream",
     "text": [
      "Before execution of fun\n",
      "After execution of fun\n"
     ]
    },
    {
     "data": {
      "text/plain": [
       "'Bonsoir, Jimmy'"
      ]
     },
     "execution_count": 24,
     "metadata": {},
     "output_type": "execute_result"
    }
   ],
   "source": [
    "return_french_greeting(name=\"Jimmy\", tod=\"evening\")"
   ]
  },
  {
   "cell_type": "markdown",
   "metadata": {
    "slideshow": {
     "slide_type": "slide"
    }
   },
   "source": [
    "### Important Suggestions About the Returned Values\n",
    "\n",
    "* The returned value should be only those returned by the decorated function\n",
    "  * Do not return additional values\n",
    "\n",
    "* Ex.: I could be tempted to return timestamp, or `True` if action was performed successfully\n",
    "  * Changes the returned value -- not a good idea \n",
    "  \n",
    "```python\n",
    "def log_activity(fun):\n",
    "    @wraps(fun)\n",
    "    def wrapper_log_activity(*args, **kwargs):\n",
    "        print(\"Before execution of fun\")\n",
    "        value = fun(*args, **kwargs)\n",
    "        print(\"After execution of fun\")\n",
    "        return value, time.time()\n",
    "    return wrapper_log_activity\n",
    "```"
   ]
  },
  {
   "cell_type": "code",
   "execution_count": null,
   "metadata": {
    "slideshow": {
     "slide_type": "slide"
    }
   },
   "outputs": [],
   "source": [
    "### Decorator Template\n",
    "```\n",
    "def some_function(fun):\n",
    "    @wraps(fun)\n",
    "    def wrapper_some_function(*args, **kwargs):\n",
    "        # Do something before execution of fun\n",
    "        value = fun(*args, **kwargs)\n",
    "        # Do something after the execution of fun\n",
    "        return value\n",
    "    return wrapper_log_activity\n",
    "```\n",
    "\n"
   ]
  },
  {
   "cell_type": "markdown",
   "metadata": {},
   "source": [
    "<b>Hi</b>"
   ]
  },
  {
   "cell_type": "markdown",
   "metadata": {
    "slideshow": {
     "slide_type": "slide"
    }
   },
   "source": [
    "### Use Cases: Timing Functions\n",
    "\n",
    "* Use a decorator to wrap execution of a function\n",
    "  1. Start timer \n",
    "  2. run function \n",
    "  3. Stop timer after\n",
    "  4. Print total time\n",
    "\n",
    "```python    \n",
    "\n",
    "def time_me(func):\n",
    "    @wraps(func)\n",
    "    def wrapper_time_me(*args, **kwargs):\n",
    "        start_time = time.time()\n",
    "        val = func(*args, **kwargs)\n",
    "        total_time = time.time() - start_time\n",
    "        print(\"{func.__name__} completed in {total_time}\")\n",
    "        return val\n",
    "    return wrapper_time_me\n",
    "```    "
   ]
  },
  {
   "cell_type": "code",
   "execution_count": 221,
   "metadata": {
    "slideshow": {
     "slide_type": "slide"
    }
   },
   "outputs": [
    {
     "name": "stdout",
     "output_type": "stream",
     "text": [
      "Starting to sleep\n",
      "Woke up\n",
      "long_computation completed in 4.002820014953613\n"
     ]
    }
   ],
   "source": [
    "import time\n",
    "\n",
    "def time_me(func):\n",
    "    @wraps(func)\n",
    "    def wrapper_time_me(*args, **kwargs):\n",
    "        start_time = time.time()\n",
    "        val = func(*args, **kwargs)\n",
    "        total_time = time.time() - start_time\n",
    "        print(f\"{func.__name__} completed in {total_time}\")\n",
    "        return val\n",
    "    return wrapper_time_me\n",
    "\n",
    "@time_me\n",
    "def long_computation(sleep_time=3):\n",
    "    print(\"Starting to sleep\")\n",
    "    time.sleep(sleep_time)\n",
    "    print(\"Woke up\")\n",
    "    \n",
    "\n",
    "long_computation(4)"
   ]
  },
  {
   "cell_type": "markdown",
   "metadata": {
    "slideshow": {
     "slide_type": "slide"
    }
   },
   "source": [
    "### Decorators Can be Applied to Class Methods\n",
    "\n",
    "* The process is the same: decorate the method using the `@`+ the decorating function's name\n",
    "```python\n",
    "class SomeClass:\n",
    "    def __init__(self, x=10):\n",
    "        self.x = x\n",
    "\n",
    "    @log_activity\n",
    "    def say_hi(self, name=\"Mahdi\"):\n",
    "        print(f\"Hi, {name}\")\n",
    "```"
   ]
  },
  {
   "cell_type": "code",
   "execution_count": 222,
   "metadata": {
    "slideshow": {
     "slide_type": "slide"
    }
   },
   "outputs": [
    {
     "name": "stdout",
     "output_type": "stream",
     "text": [
      "Before execution of fun\n",
      "Hi, Mahdi\n",
      "After execution of fun\n"
     ]
    }
   ],
   "source": [
    "class SomeClass:\n",
    "    def __init__(self, x=10):\n",
    "        self.x = x\n",
    "\n",
    "    @log_activity\n",
    "    def say_hi(self, name=\"Mahdi\"):\n",
    "        print(f\"Hi, {name}\")\n",
    "\n",
    "sc = SomeClass()\n",
    "sc.say_hi()"
   ]
  },
  {
   "cell_type": "markdown",
   "metadata": {
    "slideshow": {
     "slide_type": "slide"
    }
   },
   "source": [
    "### Decorators with Arguments\n",
    "\n",
    "* So far, we have allowed the decorated functions to have params but not the decorators.\n",
    "* How do you customize and change the behavior of a decorator?\n",
    "  * Decorators should be able to take functions. For example:\n",
    "  \n",
    "```python\n",
    "@log_activity(to=\"file\")\n",
    "def some_function():\n",
    "    pass\n",
    "```       \n",
    "* `log_activity` could then be used to log to a file, stdout, or even a database if needed\n",
    "\n",
    "\n"
   ]
  },
  {
   "cell_type": "markdown",
   "metadata": {
    "slideshow": {
     "slide_type": "slide"
    }
   },
   "source": [
    "### Decorators with Arguments - Cont'd\n",
    "\n",
    "* To achieve this, we need another layer of indirection\n",
    "\n",
    "```python\n",
    "def Z(param=None):\n",
    "    def X(Y):\n",
    "        def wrapper_X(*args, **kwargs):\n",
    "            # Do Something Before, potentially with param\n",
    "            value = func(*args, **kwargs)\n",
    "            # Do Something after, potentially with param\n",
    "            return value\n",
    "        return wrapper_X\n",
    "    return X\n",
    "```\n"
   ]
  },
  {
   "cell_type": "code",
   "execution_count": 30,
   "metadata": {},
   "outputs": [
    {
     "name": "stdout",
     "output_type": "stream",
     "text": [
      "Hi\n",
      "The param that was passed is 12\n"
     ]
    }
   ],
   "source": [
    "def Z(param=None):\n",
    "    def X(func):\n",
    "        def wrapper_X(*args, **kwargs):\n",
    "            # Do Something Before, potentially with param\n",
    "            value = func(*args, **kwargs)\n",
    "            print(f\"The param that was passed is {param}\")\n",
    "            # Do Something after, potentially with param\n",
    "            return value\n",
    "        return wrapper_X\n",
    "    return X\n",
    "\n",
    "\n",
    "@Z(param=\"File\")\n",
    "def some_function():\n",
    "    print(\"Hi\")\n",
    "\n",
    "some_function()"
   ]
  },
  {
   "cell_type": "markdown",
   "metadata": {
    "slideshow": {
     "slide_type": "slide"
    }
   },
   "source": [
    "### Use Case: Decorators to Slow Down Non-Blocking Code in Tests\n",
    "\n",
    "* Given some async code, I need to make sure the code completed before testing the results\n",
    "\n",
    "\n",
    "```python\n",
    "x = None\n",
    "x = some_threaded_function()\n",
    "assert x == True\n",
    "```\n",
    "* The above assert will fail if executed before `some_threaded_function` completes\n",
    "\n",
    "* Create a decorator that forces the execution to pause -- `sleep()` -- for a given number of seconds\n",
    "\n"
   ]
  },
  {
   "cell_type": "code",
   "execution_count": 31,
   "metadata": {
    "slideshow": {
     "slide_type": "slide"
    }
   },
   "outputs": [
    {
     "name": "stdout",
     "output_type": "stream",
     "text": [
      "1. Some_threaded_function is starting\n",
      "\n",
      "2. In some_threaded_function: Getting ready to do some work that will take four seconds\n",
      "4. function some_threaded_function is done\n",
      "\n",
      "\n",
      "3. In some_threaded_function: Done doing the work\n",
      "\n"
     ]
    }
   ],
   "source": [
    "import threading, queue\n",
    "\n",
    "\n",
    "def some_threaded_function():\n",
    "    event = threading.Event()\n",
    "    print(\"2. In some_threaded_function: Getting ready to do some work that will take four seconds\\n\")\n",
    "    event.wait(2)\n",
    "    print(\"3. In some_threaded_function: Done doing the work\\n\")\n",
    "\n",
    "\n",
    "def run_function_in_thread():\n",
    "    thread = threading.Thread(target=some_threaded_function)\n",
    "    thread.start()\n",
    "\n",
    "\n",
    "    \n",
    "print(\"1. Some_threaded_function is starting\\n\")\n",
    "run_function_in_thread()   \n",
    "print(\"4. function some_threaded_function is done\\n\")    "
   ]
  },
  {
   "cell_type": "code",
   "execution_count": 33,
   "metadata": {
    "slideshow": {
     "slide_type": "slide"
    }
   },
   "outputs": [
    {
     "name": "stdout",
     "output_type": "stream",
     "text": [
      "1. Some_threaded_function is starting\n",
      "\n",
      "2. In some_threaded_function: Getting ready to do some work that will take four seconds\n",
      "\n",
      "3. In some_threaded_function: Done doing the work\n",
      "\n",
      "4. function some_threaded_function is done\n",
      "\n"
     ]
    }
   ],
   "source": [
    "import time\n",
    "\n",
    "def sleep_factory(interval=2):\n",
    "    def sleep(func):\n",
    "        def wrapper_sleep(*args, **kwargs):\n",
    "            value = func(*args, **kwargs)\n",
    "            time.sleep(interval)\n",
    "            return value\n",
    "        return wrapper_sleep\n",
    "    return sleep\n",
    "\n",
    "@sleep_factory(3)\n",
    "def run_function_in_thread():\n",
    "    thread = threading.Thread(target=some_threaded_function)\n",
    "    thread.start()\n",
    "    \n",
    "print(\"1. Some_threaded_function is starting\\n\")\n",
    "run_function_in_thread()   \n",
    "print(\"4. function some_threaded_function is done\\n\")    \n"
   ]
  },
  {
   "cell_type": "markdown",
   "metadata": {
    "slideshow": {
     "slide_type": "slide"
    }
   },
   "source": [
    "### Use Case:  Decorators to Add Attributes on the Fly\n",
    "\n",
    "* SAGE3 allows users to create Python code and use it in JavaScript front-end\n",
    "\n",
    "* Python needs a way to introspect objects and return functions that a programmer wants to expose. \n",
    "\n",
    "```\n",
    "class SomeNewFunctionality:\n",
    "    def __init__(self, a=1, b=2):\n",
    "        self.a = 1\n",
    "        self.b = 2\n",
    "    def expose_this(self):\n",
    "        pass\n",
    "    def dont_expose_this(self):\n",
    "        pass    \n",
    "```\n",
    "\n",
    "* We don't want to force the programmer to adopt a specific naming convention."
   ]
  },
  {
   "cell_type": "code",
   "execution_count": 227,
   "metadata": {
    "slideshow": {
     "slide_type": "slide"
    }
   },
   "outputs": [],
   "source": [
    "class SomeNewFunctionality:\n",
    "    def __init__(self, a=1, b=2):\n",
    "        self.a = a\n",
    "        self.b = b\n",
    "\n",
    "    def expose_this(self):\n",
    "        print(\"I do some useful stuff in JavaScript\")\n",
    "    def dont_expose_this(self):\n",
    "        print(\"I don't do anything useful in JavaScript\")\n",
    "\n",
    "    "
   ]
  },
  {
   "cell_type": "code",
   "execution_count": 228,
   "metadata": {
    "slideshow": {
     "slide_type": "slide"
    }
   },
   "outputs": [
    {
     "name": "stdout",
     "output_type": "stream",
     "text": [
      "I do some useful stuff in JavaScript\n"
     ]
    }
   ],
   "source": [
    "snf = SomeNewFunctionality(3, 5)\n",
    "snf.expose_this()"
   ]
  },
  {
   "cell_type": "code",
   "execution_count": 336,
   "metadata": {
    "slideshow": {
     "slide_type": "slide"
    }
   },
   "outputs": [
    {
     "data": {
      "text/plain": [
       "['dont_expose_this', 'expose_this']"
      ]
     },
     "execution_count": 336,
     "metadata": {},
     "output_type": "execute_result"
    }
   ],
   "source": [
    "def list_obj_methods(some_obj):\n",
    "    methods  = []\n",
    "    for method_name in dir(some_obj):\n",
    "        if callable(getattr(some_obj, method_name)) \\\n",
    "            and not method_name.startswith(\"__\"):\n",
    "                methods.append(method_name) \n",
    "\n",
    "    return methods\n",
    "list_obj_methods(snf)"
   ]
  },
  {
   "cell_type": "markdown",
   "metadata": {
    "slideshow": {
     "slide_type": "slide"
    }
   },
   "source": [
    "### Use Case:  Decorators to Add Attributes on the Fly -- Cont'd\n",
    "\n",
    "* A possible solution can be to use a decorator -- ex. @visible_action -- and let a user decorate function they want to expose\n",
    "\n",
    "\n",
    "```python\n",
    "class SomeNewFunctionality:\n",
    "    def __init__(self, a=1, b=2):\n",
    "        self.a = 1\n",
    "        self.b = 2\n",
    "    @visible_action    \n",
    "    def expose_this(self):\n",
    "        pass\n",
    "    def dont_expose_this(self):\n",
    "        pass    \n",
    "```\n",
    "\n",
    "* Flexible and does not force the programmer to adopt a specific naming convention.\n",
    "\n"
   ]
  },
  {
   "cell_type": "code",
   "execution_count": 337,
   "metadata": {
    "slideshow": {
     "slide_type": "slide"
    }
   },
   "outputs": [],
   "source": [
    "def visible_action(func):\n",
    "    func.is_visible = True\n",
    "    def wrapper_visible_action(*args, **kwargs):\n",
    "            func.is_exposed = True\n",
    "    return func\n",
    "    \n",
    "\n",
    "class SomeNewFunctionality:\n",
    "    def __init__(self, a=1, b=2):\n",
    "        self.a = 1\n",
    "        self.b = 2\n",
    "        \n",
    "    @visible_action    \n",
    "    def expose_this(self):\n",
    "        print(\"I do some useful stuff in JavaScript\")\n",
    "        \n",
    "    def dont_expose_this(self):\n",
    "        print(\"I don't do anything useful in JavaScript\")\n"
   ]
  },
  {
   "cell_type": "code",
   "execution_count": 339,
   "metadata": {
    "slideshow": {
     "slide_type": "slide"
    }
   },
   "outputs": [
    {
     "data": {
      "text/plain": [
       "['dont_expose_this', 'expose_this']"
      ]
     },
     "execution_count": 339,
     "metadata": {},
     "output_type": "execute_result"
    }
   ],
   "source": [
    "snf = SomeNewFunctionality(3, 5)\n",
    "\n",
    "list_obj_methods(snf)"
   ]
  },
  {
   "cell_type": "code",
   "execution_count": 333,
   "metadata": {
    "slideshow": {
     "slide_type": "slide"
    }
   },
   "outputs": [
    {
     "name": "stdout",
     "output_type": "stream",
     "text": [
      "I do some useful stuff in JavaScript\n"
     ]
    }
   ],
   "source": [
    "snf.expose_this()"
   ]
  },
  {
   "cell_type": "code",
   "execution_count": 334,
   "metadata": {
    "slideshow": {
     "slide_type": "slide"
    }
   },
   "outputs": [
    {
     "data": {
      "text/plain": [
       "['expose_this']"
      ]
     },
     "execution_count": 334,
     "metadata": {},
     "output_type": "execute_result"
    }
   ],
   "source": [
    "def list_visible_action(some_obj):\n",
    "    visible_methods  = []\n",
    "    for method_name in dir(some_obj):\n",
    "        if callable(getattr(some_obj, method_name)) \\\n",
    "            and not method_name.startswith(\"__\"):\n",
    "            method = getattr(some_obj, method_name)\n",
    "            if hasattr(method, \"is_visible\"):\n",
    "                visible_methods.append(method_name) \n",
    "\n",
    "    return visible_methods\n",
    "list_visible_action(snf)"
   ]
  },
  {
   "cell_type": "code",
   "execution_count": null,
   "metadata": {},
   "outputs": [],
   "source": []
  }
 ],
 "metadata": {
  "celltoolbar": "Slideshow",
  "kernelspec": {
   "display_name": "Python 3",
   "language": "python",
   "name": "python3"
  },
  "language_info": {
   "codemirror_mode": {
    "name": "ipython",
    "version": 3
   },
   "file_extension": ".py",
   "mimetype": "text/x-python",
   "name": "python",
   "nbconvert_exporter": "python",
   "pygments_lexer": "ipython3",
   "version": "3.8.3"
  }
 },
 "nbformat": 4,
 "nbformat_minor": 4
}
